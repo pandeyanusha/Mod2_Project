{
 "cells": [
  {
   "cell_type": "markdown",
   "metadata": {},
   "source": [
    "Before you turn this problem in, make sure everything runs as expected. First, **restart the kernel** (in the menubar, select Kernel$\\rightarrow$Restart) and then **run all cells** (in the menubar, select Cell$\\rightarrow$Run All).\n",
    "\n",
    "Make sure you fill in any place that says `YOUR CODE HERE` or \"YOUR ANSWER HERE\", as well as your name and collaborators below:"
   ]
  },
  {
   "cell_type": "code",
   "execution_count": null,
   "metadata": {},
   "outputs": [],
   "source": [
    "NAME = \"Anusha Pandey\"\n",
    "COLLABORATORS = \"\""
   ]
  },
  {
   "cell_type": "markdown",
   "metadata": {},
   "source": [
    "---"
   ]
  },
  {
   "cell_type": "markdown",
   "metadata": {
    "deletable": false,
    "editable": false,
    "nbgrader": {
     "cell_type": "markdown",
     "checksum": "4c9523b1a065f6f7c8c79b880a2240ab",
     "grade": false,
     "grade_id": "cell-b4149d8af2d478a3",
     "locked": true,
     "schema_version": 3,
     "solution": false,
     "task": false
    }
   },
   "source": [
    "<a href='https://ai.meng.duke.edu'> = <img align=\"left\" style=\"padding-top:10px;\" src=https://storage.googleapis.com/aipi_datasets/Duke-AIPI-Logo.png>"
   ]
  },
  {
   "cell_type": "markdown",
   "metadata": {
    "deletable": false,
    "editable": false,
    "nbgrader": {
     "cell_type": "markdown",
     "checksum": "ee67ee9f6407235f5d63fcc69df733fd",
     "grade": false,
     "grade_id": "cell-6d435bfd9e9eff39",
     "locked": true,
     "schema_version": 3,
     "solution": false,
     "task": false
    }
   },
   "source": [
    "# SCI Module 2 Project Proposal\n",
    "Over the three weeks of Module 2 we will be working on a small project to put our new skills into practice as we build them through the daily lectures and practice exercises.  Please read through the [project description](https://github.com/summercomputinginstitute/demo_notebooks/blob/main/project_description.md) before completing this Project Proposal.  Once you have read the instructions and selected a topic, complete the below questions from CRISP-DM Steps 1 & 2 for your chosen topic, and submit it via GitHub Classroom by pushing it back to your repo.  This proposal will be graded only as pass/fail - the purpose is for you to think through the details of how to frame your project topic in a way that is manageable to tackle."
   ]
  },
  {
   "cell_type": "markdown",
   "metadata": {
    "deletable": false,
    "editable": false,
    "nbgrader": {
     "cell_type": "markdown",
     "checksum": "5c422981ab95b27735475eec63b979fc",
     "grade": false,
     "grade_id": "cell-29ff1913fbdf1ef1",
     "locked": true,
     "schema_version": 3,
     "solution": false,
     "task": false
    }
   },
   "source": [
    "## CRISP-DM Step 1: Business Understanding\n",
    "### 1.1 Define the Problem\n",
    "#### Who has the problem (e.g. describe their job role or general profile)"
   ]
  },
  {
   "cell_type": "markdown",
   "metadata": {
    "deletable": false,
    "nbgrader": {
     "cell_type": "markdown",
     "checksum": "22773d94607cf06e68134ef2de799482",
     "grade": true,
     "grade_id": "cell-17b901db0430cbda",
     "locked": false,
     "points": 0,
     "schema_version": 3,
     "solution": true,
     "task": false
    }
   },
   "source": [
    "The greatest acidic precipitation and dry acidic deposition is most prevelant in the northeastern region of US. Due to a combination of factors like industrial plants, and vehicle combustion, soil acidity and acidic depositions are very high in this region. Normally, soil is only slighly acidic  (pH > 6.5) but due to the lack of limsetone in the northeastern part of US like New Jersey and Pennsylvania, soil cannot neutralize acidic depositions and the pH drops below the normal, which affects crop yield."
   ]
  },
  {
   "cell_type": "markdown",
   "metadata": {
    "deletable": false,
    "editable": false,
    "nbgrader": {
     "cell_type": "markdown",
     "checksum": "0be41178b3fbfa336fa90f0713d5adcd",
     "grade": false,
     "grade_id": "cell-a87117d0f47ac9db",
     "locked": true,
     "schema_version": 3,
     "solution": false,
     "task": false
    }
   },
   "source": [
    "#### What is the problem you would like to address?"
   ]
  },
  {
   "cell_type": "markdown",
   "metadata": {
    "deletable": false,
    "nbgrader": {
     "cell_type": "markdown",
     "checksum": "b7c714ff949bb0fe90148f04910527fc",
     "grade": true,
     "grade_id": "cell-3f143d2ef2bfa5b4",
     "locked": false,
     "points": 0,
     "schema_version": 3,
     "solution": true,
     "task": false
    }
   },
   "source": [
    "The impact of acidity in soil is very broad and insidiuous. I would like to visualize the effect of  pH level on plant growth,  and  how the effects of acidity can be neutralized by introducing lime to acidic soil.If the soil is rich in limestone or if the underlying bedrock is either composed of limestone or marble, then the acidity may be neutralised. This is because limestone and marble are more alkaline (basic) and produce a higher pH when dissolved in water."
   ]
  },
  {
   "cell_type": "markdown",
   "metadata": {
    "deletable": false,
    "editable": false,
    "nbgrader": {
     "cell_type": "markdown",
     "checksum": "9d365d6322d55adca76286941d772088",
     "grade": false,
     "grade_id": "cell-e1a3272b0142c440",
     "locked": true,
     "schema_version": 3,
     "solution": false,
     "task": false
    }
   },
   "source": [
    "#### How is it solved today? (Every problem is addressed today in some way, no matter how sub-optimal it might be)"
   ]
  },
  {
   "cell_type": "markdown",
   "metadata": {
    "deletable": false,
    "nbgrader": {
     "cell_type": "markdown",
     "checksum": "67593990dc4a196a5c18059ec87efb35",
     "grade": true,
     "grade_id": "cell-f5ca4cecba39a6a3",
     "locked": false,
     "points": 0,
     "schema_version": 3,
     "solution": true,
     "task": false
    }
   },
   "source": [
    "While nature has capacity to heal itself, sometimes humans are needed to solve the problem. Today, limimg projects have been undertaken by various countries like Norway, and the UK, to restore balance in soil. Calcium pellets have been introduced  to slowly work their way into neutralizing the acidification of the soil. However, the main way to minimize the effect is to minimize our mile of consumption and regulating industries."
   ]
  },
  {
   "cell_type": "markdown",
   "metadata": {
    "deletable": false,
    "editable": false,
    "nbgrader": {
     "cell_type": "markdown",
     "checksum": "3536b597f7a03d93fd9072c5b78bb744",
     "grade": false,
     "grade_id": "cell-8456b83083ae37ed",
     "locked": true,
     "schema_version": 3,
     "solution": false,
     "task": false
    }
   },
   "source": [
    "#### What is the gap(s) in the current solution that you think could be improved?"
   ]
  },
  {
   "cell_type": "markdown",
   "metadata": {
    "deletable": false,
    "nbgrader": {
     "cell_type": "markdown",
     "checksum": "914f1ded634f6093d6a3ae2353c1faac",
     "grade": true,
     "grade_id": "cell-e4bc3a044c38c9cb",
     "locked": false,
     "points": 0,
     "schema_version": 3,
     "solution": true,
     "task": false
    }
   },
   "source": [
    "The problem only presents with solutions after the soil has been contaminated. It sounds obvious, but one of the most effective ways to help restore the areas damaged by acidity is to cut the emission of sulfur and nitrous oxides from the most heavily-polluting industries. By stopping the problem at the source, it allows nature to recover on its own. However, the industry is not as regulated as it should be to reduce acidic depositions."
   ]
  },
  {
   "cell_type": "markdown",
   "metadata": {
    "deletable": false,
    "editable": false,
    "nbgrader": {
     "cell_type": "markdown",
     "checksum": "ed45139638bfebf952871fbae9eb6eaa",
     "grade": false,
     "grade_id": "cell-5baeaa6121a76128",
     "locked": true,
     "schema_version": 3,
     "solution": false,
     "task": false
    }
   },
   "source": [
    "### 1.2 Define Success\n",
    "#### How would you quantify the expected impact of a better solution to this problem on the person who has it - what \"outcome\" metric would you use (e.g. cost saved, time saved, money earned etc.)"
   ]
  },
  {
   "cell_type": "markdown",
   "metadata": {
    "deletable": false,
    "nbgrader": {
     "cell_type": "markdown",
     "checksum": "72e2e65353fbf02be3d2ed2a9006246d",
     "grade": true,
     "grade_id": "cell-a1b5f5ee6dd16c3e",
     "locked": false,
     "points": 0,
     "schema_version": 3,
     "solution": true,
     "task": false
    }
   },
   "source": [
    "This would be through two output metrics. The plant size vs. soil ph comparison will directly compare the growth rate of plants in different ph, where the height/size of the plant is the output metric. The comparison between liming concentration/rate and crop yield will use crop yield in tons per. hectre in two different sites in the UK as the outcome metric.\n",
    "The conclusions  from the 2nd comparison data obtained from the UK study is assumed to be representative to the conditions/ conclusions that would be obtained had the study been done in Northeastern US. \n"
   ]
  },
  {
   "cell_type": "markdown",
   "metadata": {},
   "source": [
    "### 1.3 Identify Factors\n",
    "#### What data / factors might be relevant to use in building a model to help solve this problem?"
   ]
  },
  {
   "cell_type": "markdown",
   "metadata": {
    "deletable": false,
    "nbgrader": {
     "cell_type": "markdown",
     "checksum": "f3c6f9fdd0cd820e71284a71289315d7",
     "grade": true,
     "grade_id": "cell-5416f8e17c4e65d4",
     "locked": false,
     "points": 0,
     "schema_version": 3,
     "solution": true,
     "task": false
    }
   },
   "source": [
    "Plant growth vs. soil ph and, liming rate vs. crop yield. \n",
    "\n"
   ]
  },
  {
   "cell_type": "markdown",
   "metadata": {},
   "source": [
    "## CRISP-DM Step 2: Data Understanding\n",
    "### 2.1 Gather Data\n",
    "#### What sources do you plan to use for the data needed for your project? (You will need one or more sources, which could either be existing datasets or you could collect your own data)"
   ]
  },
  {
   "cell_type": "markdown",
   "metadata": {
    "deletable": false,
    "nbgrader": {
     "cell_type": "markdown",
     "checksum": "ae2f1806b82a0e71d6620d2c10b543ea",
     "grade": true,
     "grade_id": "cell-a9f5afe546d7d5da",
     "locked": false,
     "points": 0,
     "schema_version": 3,
     "solution": true,
     "task": false
    }
   },
   "source": [
    "1. Effect of acidity in germination of seed  : https://www.sd81.bc.ca/aspire/?page_id=294\n",
    "2. Yield response of crop to liming : https://www.ncbi.nlm.nih.gov/pmc/articles/PMC6472519/"
   ]
  }
 ],
 "metadata": {
  "kernelspec": {
   "display_name": "Python 3",
   "language": "python",
   "name": "python3"
  },
  "language_info": {
   "codemirror_mode": {
    "name": "ipython",
    "version": 3
   },
   "file_extension": ".py",
   "mimetype": "text/x-python",
   "name": "python",
   "nbconvert_exporter": "python",
   "pygments_lexer": "ipython3",
   "version": "3.8.8"
  }
 },
 "nbformat": 4,
 "nbformat_minor": 4
}
